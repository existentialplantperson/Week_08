{
 "cells": [
  {
   "cell_type": "markdown",
   "id": "33514e64",
   "metadata": {},
   "source": [
    "Please push a notebook with answers to the following questions to github when you’re done\n",
    "1. Lookup information on geometric mean and harmonic mean to answer the following\n",
    "questions:"
   ]
  },
  {
   "cell_type": "code",
   "execution_count": 6,
   "id": "db644b8b",
   "metadata": {},
   "outputs": [],
   "source": [
    "import numpy as np\n",
    "import pandas as pd\n",
    "import math\n",
    "import statistics\n",
    "from scipy import stats"
   ]
  },
  {
   "cell_type": "code",
   "execution_count": 11,
   "id": "567c5dfc",
   "metadata": {},
   "outputs": [
    {
     "data": {
      "text/html": [
       "<div>\n",
       "<style scoped>\n",
       "    .dataframe tbody tr th:only-of-type {\n",
       "        vertical-align: middle;\n",
       "    }\n",
       "\n",
       "    .dataframe tbody tr th {\n",
       "        vertical-align: top;\n",
       "    }\n",
       "\n",
       "    .dataframe thead th {\n",
       "        text-align: right;\n",
       "    }\n",
       "</style>\n",
       "<table border=\"1\" class=\"dataframe\">\n",
       "  <thead>\n",
       "    <tr style=\"text-align: right;\">\n",
       "      <th></th>\n",
       "      <th>id</th>\n",
       "      <th>name</th>\n",
       "      <th>host_id</th>\n",
       "      <th>host_name</th>\n",
       "      <th>neighbourhood_group</th>\n",
       "      <th>neighbourhood</th>\n",
       "      <th>latitude</th>\n",
       "      <th>longitude</th>\n",
       "      <th>room_type</th>\n",
       "      <th>price</th>\n",
       "      <th>minimum_nights</th>\n",
       "      <th>number_of_reviews</th>\n",
       "      <th>last_review</th>\n",
       "      <th>reviews_per_month</th>\n",
       "      <th>calculated_host_listings_count</th>\n",
       "      <th>availability_365</th>\n",
       "    </tr>\n",
       "  </thead>\n",
       "  <tbody>\n",
       "    <tr>\n",
       "      <th>0</th>\n",
       "      <td>36666</td>\n",
       "      <td>Mo's Cozy Casa w/ veranda &amp; access to dock</td>\n",
       "      <td>157752</td>\n",
       "      <td>Monique</td>\n",
       "      <td>Belize</td>\n",
       "      <td>Belize Islands</td>\n",
       "      <td>17.74786</td>\n",
       "      <td>-88.02398</td>\n",
       "      <td>Entire home/apt</td>\n",
       "      <td>141</td>\n",
       "      <td>3</td>\n",
       "      <td>250</td>\n",
       "      <td>2/23/2021</td>\n",
       "      <td>2.00</td>\n",
       "      <td>5</td>\n",
       "      <td>225</td>\n",
       "    </tr>\n",
       "    <tr>\n",
       "      <th>1</th>\n",
       "      <td>36690</td>\n",
       "      <td>Mo's Cozy Cabana w/ comfy veranda &amp; access to ...</td>\n",
       "      <td>157752</td>\n",
       "      <td>Monique</td>\n",
       "      <td>Belize</td>\n",
       "      <td>Belize Islands</td>\n",
       "      <td>17.74832</td>\n",
       "      <td>-88.02474</td>\n",
       "      <td>Entire home/apt</td>\n",
       "      <td>71</td>\n",
       "      <td>3</td>\n",
       "      <td>316</td>\n",
       "      <td>2/19/2021</td>\n",
       "      <td>2.46</td>\n",
       "      <td>5</td>\n",
       "      <td>164</td>\n",
       "    </tr>\n",
       "    <tr>\n",
       "      <th>2</th>\n",
       "      <td>108932</td>\n",
       "      <td>Purple House eco solar  w/ ocean &amp; wildlife views</td>\n",
       "      <td>563377</td>\n",
       "      <td>Michael</td>\n",
       "      <td>Belize</td>\n",
       "      <td>Belize Islands</td>\n",
       "      <td>17.73221</td>\n",
       "      <td>-88.03824</td>\n",
       "      <td>Entire home/apt</td>\n",
       "      <td>191</td>\n",
       "      <td>2</td>\n",
       "      <td>30</td>\n",
       "      <td>3/14/2020</td>\n",
       "      <td>0.78</td>\n",
       "      <td>1</td>\n",
       "      <td>364</td>\n",
       "    </tr>\n",
       "  </tbody>\n",
       "</table>\n",
       "</div>"
      ],
      "text/plain": [
       "       id                                               name  host_id  \\\n",
       "0   36666         Mo's Cozy Casa w/ veranda & access to dock   157752   \n",
       "1   36690  Mo's Cozy Cabana w/ comfy veranda & access to ...   157752   \n",
       "2  108932  Purple House eco solar  w/ ocean & wildlife views   563377   \n",
       "\n",
       "  host_name neighbourhood_group   neighbourhood  latitude  longitude  \\\n",
       "0   Monique              Belize  Belize Islands  17.74786  -88.02398   \n",
       "1   Monique              Belize  Belize Islands  17.74832  -88.02474   \n",
       "2   Michael              Belize  Belize Islands  17.73221  -88.03824   \n",
       "\n",
       "         room_type  price  minimum_nights  number_of_reviews last_review  \\\n",
       "0  Entire home/apt    141               3                250   2/23/2021   \n",
       "1  Entire home/apt     71               3                316   2/19/2021   \n",
       "2  Entire home/apt    191               2                 30   3/14/2020   \n",
       "\n",
       "   reviews_per_month  calculated_host_listings_count  availability_365  \n",
       "0               2.00                               5               225  \n",
       "1               2.46                               5               164  \n",
       "2               0.78                               1               364  "
      ]
     },
     "execution_count": 11,
     "metadata": {},
     "output_type": "execute_result"
    }
   ],
   "source": [
    "belize_df = pd.read_csv('belize_airbnb_listings.csv')\n",
    "belize_df.head(3)"
   ]
  },
  {
   "cell_type": "markdown",
   "id": "0d79f94a",
   "metadata": {},
   "source": [
    "a. In a jupyter notebook create a markdown section for each of the three concepts: arithmetic mean, geometric mean, and harmonic mean\n",
    "\n",
    "b. Write a definition for arithmetic mean, geometric mean, and harmonic mean,\n",
    "under their respective headings\n",
    "\n",
    "c. Write a code example for arithmetic mean, geometric mean, and harmonic mean\n",
    "using the Belize Airbnb data in a cell under the each respective summary in\n",
    "markdown"
   ]
  },
  {
   "cell_type": "markdown",
   "id": "4c67272b",
   "metadata": {},
   "source": [
    "#### Arithmetic mean\n",
    "average that is most commonly used, calculated by taking the sum of all values and dividing by the count of the values; works best when the data has a linear relationship"
   ]
  },
  {
   "cell_type": "code",
   "execution_count": null,
   "id": "146cbb96",
   "metadata": {},
   "outputs": [],
   "source": [
    "https://www.geeksforgeeks.org/scipy-stats-gmean-function-python/\n",
    "https://www.geeksforgeeks.org/python-statistics-harmonic_mean/\n"
   ]
  },
  {
   "cell_type": "markdown",
   "id": "6e36da88",
   "metadata": {},
   "source": [
    "#### Geometric mean\n",
    "square root of the product of all values; used for no nlinear relationships"
   ]
  },
  {
   "cell_type": "code",
   "execution_count": null,
   "id": "696beaa7",
   "metadata": {},
   "outputs": [],
   "source": [
    "arr1 = gmean([1, 3, 27])\n",
    "  \n",
    "print(\"Geometric Mean is :\", arr1)\n"
   ]
  },
  {
   "cell_type": "markdown",
   "id": "f4bdb4c7",
   "metadata": {},
   "source": [
    "#### Harmonic mean\n",
    "used to average units like speed (mph); for data with different scales"
   ]
  },
  {
   "cell_type": "code",
   "execution_count": null,
   "id": "1f2fa213",
   "metadata": {},
   "outputs": [],
   "source": []
  },
  {
   "cell_type": "markdown",
   "id": "dd0552a9",
   "metadata": {},
   "source": [
    "2. Write a function to sort several subsequent inputs alphabetically. For example, if you first\n",
    "input ‘banana’ and next input ‘apple’, the first time [‘banana’] will be the output but the\n",
    "second time [‘apple’,’banana’] will be the output. The results should be stored until you\n",
    "restart your kernel. There are several approaches that will work, but using a global\n",
    "variable is likely the easiest\n",
    "https://www.w3schools.com/python/python_variables_global.asp"
   ]
  },
  {
   "cell_type": "code",
   "execution_count": null,
   "id": "e695eb4a",
   "metadata": {},
   "outputs": [],
   "source": []
  }
 ],
 "metadata": {
  "kernelspec": {
   "display_name": "Python 3 (ipykernel)",
   "language": "python",
   "name": "python3"
  },
  "language_info": {
   "codemirror_mode": {
    "name": "ipython",
    "version": 3
   },
   "file_extension": ".py",
   "mimetype": "text/x-python",
   "name": "python",
   "nbconvert_exporter": "python",
   "pygments_lexer": "ipython3",
   "version": "3.9.7"
  }
 },
 "nbformat": 4,
 "nbformat_minor": 5
}
