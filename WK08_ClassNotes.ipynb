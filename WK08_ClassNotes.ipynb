{
 "cells": [
  {
   "cell_type": "code",
   "execution_count": 2,
   "id": "8bb4d711",
   "metadata": {},
   "outputs": [
    {
     "data": {
      "text/plain": [
       "63"
      ]
     },
     "execution_count": 2,
     "metadata": {},
     "output_type": "execute_result"
    }
   ],
   "source": [
    "#create a function that accepts 3 numbers and returns the max\n",
    "def max_func (x, y, z):\n",
    "    m = max(x, y, z)\n",
    "    return m\n",
    "\n",
    "max_func(2,14,63)"
   ]
  },
  {
   "cell_type": "code",
   "execution_count": 5,
   "id": "863698ba",
   "metadata": {},
   "outputs": [],
   "source": [
    "import numpy as np\n",
    "import pandas as pd\n",
    "#important modules for statistics\n",
    "import math\n",
    "import statistics\n",
    "from scipy import stats"
   ]
  },
  {
   "cell_type": "markdown",
   "id": "09beeec7",
   "metadata": {},
   "source": [
    "### Mean, Median, Mode, Central Tendency"
   ]
  },
  {
   "cell_type": "raw",
   "id": "d5e07f8f",
   "metadata": {},
   "source": [
    "mean = average, balance point, arithmetic mean\n",
    "mean = sum of all numbers / total number of values\n",
    "outliers have a greater affect\n",
    "\n",
    "median = middle when all values are ordered\n",
    "outliers have less effect\n",
    "\n",
    "mode = number that occurs most often\n"
   ]
  },
  {
   "cell_type": "code",
   "execution_count": null,
   "id": "09e3e917",
   "metadata": {},
   "outputs": [],
   "source": [
    "belize_listings_path = "
   ]
  },
  {
   "cell_type": "code",
   "execution_count": null,
   "id": "f19873f2",
   "metadata": {},
   "outputs": [],
   "source": [
    "import matplotlip.pyplot as plt\n",
    "n, bins, patches = plt.hist(x=belize_df['price'], bins='auto')\n",
    "plt.xlabel('price')\n",
    "plt.ylabel('frequency')"
   ]
  },
  {
   "cell_type": "raw",
   "id": "cd221638",
   "metadata": {},
   "source": [
    "#Variance\n",
    "measure how spread out the data is from the mean\n",
    "low variance = values are tightly clustered around mean\n",
    "high variance = values are spread out over wide range\n",
    "\n",
    "variance of 0 means that all values are the same\n",
    "\n",
    "degrees of freedom = number of independent pieces of information"
   ]
  },
  {
   "cell_type": "code",
   "execution_count": 6,
   "id": "ed5d69be",
   "metadata": {},
   "outputs": [],
   "source": [
    "#degrees of freedom = ddof\n",
    "def variance(data,ddof=0):\n",
    "    n = len(data)\n",
    "    mean = sum(data)/n\n",
    "    return sum((x-mean)**2 for x in data/(n-ddof))"
   ]
  },
  {
   "cell_type": "code",
   "execution_count": null,
   "id": "739846c9",
   "metadata": {},
   "outputs": [],
   "source": [
    "#population variance - ddof = 0\n",
    "variance(belize_df['price'])"
   ]
  },
  {
   "cell_type": "code",
   "execution_count": null,
   "id": "83fd34f9",
   "metadata": {},
   "outputs": [],
   "source": [
    "statistics.pvariance(belize_df['price'])"
   ]
  },
  {
   "cell_type": "code",
   "execution_count": null,
   "id": "67227f56",
   "metadata": {},
   "outputs": [],
   "source": [
    "#sample variance - ddof = 1\n",
    "variance(belize_df['price'], ddof=1)"
   ]
  },
  {
   "cell_type": "code",
   "execution_count": null,
   "id": "daf9ede0",
   "metadata": {},
   "outputs": [],
   "source": [
    "statistics.variance(belize_df['price'])"
   ]
  },
  {
   "cell_type": "markdown",
   "id": "cb49950a",
   "metadata": {},
   "source": [
    "## Standard Deviation\n",
    "square root of the variance\n",
    "gives a more intuitive sense of the data\n",
    "how far on average each value lies from the mean"
   ]
  },
  {
   "cell_type": "code",
   "execution_count": null,
   "id": "e41060b5",
   "metadata": {},
   "outputs": [],
   "source": [
    "#population standar"
   ]
  }
 ],
 "metadata": {
  "kernelspec": {
   "display_name": "Python 3 (ipykernel)",
   "language": "python",
   "name": "python3"
  },
  "language_info": {
   "codemirror_mode": {
    "name": "ipython",
    "version": 3
   },
   "file_extension": ".py",
   "mimetype": "text/x-python",
   "name": "python",
   "nbconvert_exporter": "python",
   "pygments_lexer": "ipython3",
   "version": "3.9.7"
  }
 },
 "nbformat": 4,
 "nbformat_minor": 5
}
